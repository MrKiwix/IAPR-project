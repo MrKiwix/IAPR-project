{
 "cells": [
  {
   "cell_type": "code",
   "execution_count": 3,
   "id": "21e359c7",
   "metadata": {},
   "outputs": [],
   "source": [
    "import pandas as pd\n",
    "from pathlib import Path"
   ]
  },
  {
   "cell_type": "code",
   "execution_count": 4,
   "id": "f94f8f6e",
   "metadata": {},
   "outputs": [],
   "source": [
    "data_df = pd.read_csv(Path(\"data/train.csv\"))"
   ]
  },
  {
   "cell_type": "markdown",
   "id": "32ac4326",
   "metadata": {},
   "source": [
    "#### Class imbalance"
   ]
  },
  {
   "cell_type": "code",
   "execution_count": null,
   "id": "07234963",
   "metadata": {},
   "outputs": [
    {
     "name": "stdout",
     "output_type": "stream",
     "text": [
      "percentage of difference: 39.29%\n",
      "max: 56\n",
      "min: 34\n"
     ]
    }
   ],
   "source": [
    "count = data_df.sum(axis=0)[1:]\n",
    "\n",
    "print(f\"percentage of difference: {(max(count) - min(count)) / max(count) * 100:.2f}%\")\n",
    "\n",
    "print(f\"max: {max(count)}\")\n",
    "print(f\"min: {min(count)}\")"
   ]
  },
  {
   "cell_type": "markdown",
   "id": "4cc4c60b",
   "metadata": {},
   "source": [
    "#### Count per image"
   ]
  },
  {
   "cell_type": "code",
   "execution_count": 32,
   "id": "19b03a4a",
   "metadata": {},
   "outputs": [
    {
     "name": "stdout",
     "output_type": "stream",
     "text": [
      "max: 13\n",
      "min: 3\n"
     ]
    }
   ],
   "source": [
    "count_per_image = data_df.iloc[:,1:].sum(axis=1)\n",
    "\n",
    "print(f\"max: {max(count_per_image)}\")\n",
    "print(f\"min: {min(count_per_image)}\")"
   ]
  },
  {
   "cell_type": "code",
   "execution_count": 33,
   "id": "08a100b3",
   "metadata": {},
   "outputs": [],
   "source": [
    "s_data_df = pd.read_csv(Path(\"synthetic_data/synthetic_train.csv\"))"
   ]
  },
  {
   "cell_type": "code",
   "execution_count": 35,
   "id": "438c380d",
   "metadata": {},
   "outputs": [
    {
     "name": "stdout",
     "output_type": "stream",
     "text": [
      "percentage of difference: 29.95%\n",
      "max: 828\n",
      "min: 580\n"
     ]
    }
   ],
   "source": [
    "count = s_data_df.sum(axis=0)[1:]\n",
    "\n",
    "print(f\"percentage of difference: {(max(count) - min(count)) / max(count) * 100:.2f}%\")\n",
    "\n",
    "print(f\"max: {max(count)}\")\n",
    "print(f\"min: {min(count)}\")"
   ]
  },
  {
   "cell_type": "code",
   "execution_count": 36,
   "id": "768e3040",
   "metadata": {},
   "outputs": [
    {
     "name": "stdout",
     "output_type": "stream",
     "text": [
      "max: 15\n",
      "min: 1\n"
     ]
    }
   ],
   "source": [
    "count_per_image = s_data_df.iloc[:,1:].sum(axis=1)\n",
    "\n",
    "print(f\"max: {max(count_per_image)}\")\n",
    "print(f\"min: {min(count_per_image)}\")"
   ]
  },
  {
   "cell_type": "markdown",
   "id": "e77f3726",
   "metadata": {},
   "source": [
    "### TEMP"
   ]
  }
 ],
 "metadata": {
  "kernelspec": {
   "display_name": "dl-cuda",
   "language": "python",
   "name": "python3"
  },
  "language_info": {
   "codemirror_mode": {
    "name": "ipython",
    "version": 3
   },
   "file_extension": ".py",
   "mimetype": "text/x-python",
   "name": "python",
   "nbconvert_exporter": "python",
   "pygments_lexer": "ipython3",
   "version": "3.11.11"
  }
 },
 "nbformat": 4,
 "nbformat_minor": 5
}
