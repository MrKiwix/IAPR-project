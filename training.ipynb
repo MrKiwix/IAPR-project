{
 "cells": [
  {
   "cell_type": "code",
   "execution_count": 1,
   "id": "0e1f7adc",
   "metadata": {},
   "outputs": [],
   "source": [
    "%load_ext autoreload\n",
    "%autoreload 2"
   ]
  },
  {
   "cell_type": "code",
   "execution_count": 6,
   "id": "c2003f48",
   "metadata": {},
   "outputs": [],
   "source": [
    "import torch, sys\n",
    "from torchvision.transforms import v2\n",
    "from torch.utils.data import Dataset, DataLoader, random_split, Subset\n",
    "from pathlib import Path\n",
    "from tqdm import tqdm\n",
    "\n",
    "# Check if running in Google Colab\n",
    "IN_COLAB = 'google.colab' in sys.modules\n",
    "\n",
    "# Set dataset path accordingly\n",
    "if IN_COLAB:\n",
    "    ! git clone --branch refactored https://github.com/MrKiwix/IAPR-project.git\n",
    "    %cd IAPR-project\n",
    "    from google.colab import drive\n",
    "    drive.mount('/content/drive')\n",
    "    ROOT_DIR = Path('/content/drive/MyDrive/IAPR')\n",
    "else:\n",
    "    ROOT_DIR = Path('./')"
   ]
  },
  {
   "cell_type": "markdown",
   "id": "d3ba41fc",
   "metadata": {},
   "source": [
    "# Training Notebook\n",
    "\n",
    "Function calls to start a training.\n",
    "\n",
    "This assumes the following:\n",
    "- Training data is present at the desired location\n",
    "- The CSV label information is also created\n",
    "\n",
    "> Warning: this exports the best model weights and will therefore erase the previous one with the same name\n",
    "\n",
    "We start with the constant and transformation setup:"
   ]
  },
  {
   "cell_type": "code",
   "execution_count": null,
   "id": "2bb38fb2",
   "metadata": {},
   "outputs": [],
   "source": [
    "# Constants\n",
    "NUM_CLASSES = 13\n",
    "IMG_SIZE = (120, 180) # (height, width)\n",
    "BATCH_SIZE = 32\n",
    "NUM_EPOCHS = 60\n",
    "\n",
    "# Path to dataset and csv label\n",
    "label_csv  = ROOT_DIR / Path(\"./data/train.csv\")\n",
    "images_dir = ROOT_DIR / Path(\"./data/train\")\n",
    "alpha_reference = ROOT_DIR / Path(\"./data/alpha_references/\")\n",
    "synth_dir = ROOT_DIR / Path(\"./data/synthetic_data/\")\n",
    "# create synth_dir if it doesn't exist\n",
    "synth_dir.mkdir(parents=True, exist_ok=True)\n",
    "\n",
    "# Create the model directory if it doesn't exist\n",
    "best_model_path = ROOT_DIR / Path(\"./model/best_choco_model.pt\")\n",
    "model_dir = best_model_path.parent\n",
    "model_dir.mkdir(parents=True, exist_ok=True)\n",
    "\n",
    "# Computed on the whole training set:\n",
    "# Dataset mean (R, G, B): [0.6887134909629822, 0.666830837726593, 0.6608285307884216]\n",
    "# Dataset std  (R, G, B): [0.15740245580673218, 0.1555258184671402, 0.17858198285102844]\n",
    "\n",
    "# Training and eval transform\n",
    "train_tf = v2.Compose([\n",
    "    v2.ToImage(),\n",
    "    \n",
    "    v2.Resize(IMG_SIZE, antialias=True), \n",
    "        \n",
    "    v2.RandomHorizontalFlip(p=0.5),           \n",
    "    v2.RandomVerticalFlip(p=0.5),   \n",
    "            \n",
    "    v2.ToDtype(torch.float32, scale=True), \n",
    "    v2.Normalize(mean=[0.6887134909629822, 0.666830837726593, 0.6608285307884216], std=[0.15740245580673218, 0.1555258184671402, 0.17858198285102844]),\n",
    "])\n",
    "\n",
    "val_tf = v2.Compose([\n",
    "    v2.ToImage(),\n",
    "    v2.ToDtype(torch.float32, scale=True), \n",
    "    v2.Resize(IMG_SIZE, antialias=True),                \n",
    "    v2.Normalize(mean=[0.6887134909629822, 0.666830837726593, 0.6608285307884216], std=[0.15740245580673218, 0.1555258184671402, 0.17858198285102844]),\n",
    "])\n",
    "\n"
   ]
  },
  {
   "cell_type": "markdown",
   "id": "fdc04d20",
   "metadata": {},
   "source": [
    "Now, we can load our dataset to create a training and validation split"
   ]
  },
  {
   "cell_type": "code",
   "execution_count": 15,
   "id": "c65225fa",
   "metadata": {},
   "outputs": [
    {
     "name": "stdout",
     "output_type": "stream",
     "text": [
      "Generating the synthetic images in the background directory...\n",
      "Using 82 as background images\n"
     ]
    },
    {
     "name": "stderr",
     "output_type": "stream",
     "text": [
      "Generating synthetic images:   0%|          | 0/82 [00:00<?, ?it/s]c:\\Users\\jerem\\Documents\\IAPR_project\\src\\data\\synthetic_data_generation.py:177: FutureWarning: Series.__getitem__ treating keys as positions is deprecated. In a future version, integer keys will always be treated as labels (consistent with DataFrame behavior). To access a value by position, use `ser.iloc[pos]`\n",
      "  background_name = row[0]\n",
      "Generating synthetic images: 100%|██████████| 82/82 [02:20<00:00,  1.71s/it]"
     ]
    },
    {
     "name": "stdout",
     "output_type": "stream",
     "text": [
      "Training dataset size: 82\n",
      "Validation dataset size: 21\n",
      "Synthetic dataset size: 246\n",
      "Merged training dataset size: 328\n"
     ]
    },
    {
     "name": "stderr",
     "output_type": "stream",
     "text": [
      "\n"
     ]
    }
   ],
   "source": [
    "from src.data.TrainChocolateDataset import * \n",
    "from src.data.SyntheticChocolateDataset import SyntheticChocolateDataset\n",
    "\n",
    "# We first create a general dataset\n",
    "train_eval_dataset = ChocolateDataset(\n",
    "    data_dir=images_dir,\n",
    "    label_csv=label_csv,\n",
    "    transform=None, # Since the two split are not using the same transform, we set it to None\n",
    "    target_transform=LabelToTensor(),\n",
    ")\n",
    "# We now split the dataset into training and validation sets\n",
    "# Split indexes\n",
    "train_len = int(0.8 * len(train_eval_dataset))\n",
    "test_len  = len(train_eval_dataset) - train_len\n",
    "train_idxs, test_idxs = torch.utils.data.random_split(\n",
    "    range(len(train_eval_dataset)), [train_len, test_len], generator=torch.Generator().manual_seed(42))\n",
    "\n",
    "\n",
    "training_dataset = Subset(\n",
    "    ChocolateDataset(images_dir, label_csv, transform=train_tf, target_transform=LabelToTensor()),\n",
    "    train_idxs)\n",
    "val_dataset = Subset(\n",
    "    ChocolateDataset(images_dir, label_csv, transform=val_tf, target_transform=LabelToTensor()),\n",
    "    test_idxs)\n",
    "\n",
    "# Synthetic dataset\n",
    "synth_dataset = SyntheticChocolateDataset(\n",
    "    background_dir=images_dir,\n",
    "    alpha_reference_dir=alpha_reference,\n",
    "    synth_dir=synth_dir,\n",
    "    original_label_csv=label_csv,\n",
    "    train_idx=train_idxs,\n",
    "    per_background=3,\n",
    "    transform=train_tf,\n",
    "    target_transform=LabelToTensor(),\n",
    ")\n",
    "\n",
    "# We can now merge the two datasets\n",
    "merged_training_dataset = torch.utils.data.ConcatDataset([training_dataset, synth_dataset])\n",
    "\n",
    "# Create DataLoaders\n",
    "num_workers = 0\n",
    "train_loader = DataLoader(merged_training_dataset, BATCH_SIZE,\n",
    "                          shuffle=True,  num_workers=num_workers, pin_memory=True)\n",
    "val_loader  = DataLoader(val_dataset,  BATCH_SIZE,\n",
    "                          shuffle=False, num_workers=num_workers, pin_memory=True)\n",
    "\n",
    "# print the size of the datasets\n",
    "print(f\"Training dataset size: {len(training_dataset)}\")\n",
    "print(f\"Validation dataset size: {len(val_dataset)}\")\n",
    "print(f\"Synthetic dataset size: {len(synth_dataset)}\")\n",
    "print(f\"Merged training dataset size: {len(merged_training_dataset)}\")"
   ]
  },
  {
   "cell_type": "markdown",
   "id": "1a9c1263",
   "metadata": {},
   "source": [
    "Data is now ready with our loader, let's instantiate the model"
   ]
  },
  {
   "cell_type": "code",
   "execution_count": 16,
   "id": "15c1a4b5",
   "metadata": {},
   "outputs": [
    {
     "name": "stdout",
     "output_type": "stream",
     "text": [
      "Using device: cuda\n"
     ]
    },
    {
     "name": "stderr",
     "output_type": "stream",
     "text": [
      "  2%|▏         | 1/60 [03:00<2:57:42, 180.72s/it]"
     ]
    },
    {
     "name": "stdout",
     "output_type": "stream",
     "text": [
      "Epoch 01 | train loss L1: 0.3270 | val loss l1: 0.2996 | val custom F1: 0.0000 | val MAE/class: [0.48; 0.56; 0.52; 0.37; 0.59; 0.47; 0.78; 0.49; 0.85; 0.34; 0.50; 0.70; 0.47]\n",
      "New best model found at epoch 1 with val F1: 0.0000\n"
     ]
    },
    {
     "name": "stderr",
     "output_type": "stream",
     "text": [
      "  3%|▎         | 2/60 [05:49<2:47:49, 173.62s/it]"
     ]
    },
    {
     "name": "stdout",
     "output_type": "stream",
     "text": [
      "Epoch 02 | train loss L1: 0.2985 | val loss l1: 0.2862 | val custom F1: 0.0000 | val MAE/class: [0.46; 0.61; 0.53; 0.42; 0.64; 0.56; 0.78; 0.56; 0.84; 0.44; 0.51; 0.71; 0.44]\n"
     ]
    },
    {
     "name": "stderr",
     "output_type": "stream",
     "text": [
      "  5%|▌         | 3/60 [08:42<2:44:41, 173.36s/it]"
     ]
    },
    {
     "name": "stdout",
     "output_type": "stream",
     "text": [
      "Epoch 03 | train loss L1: 0.2863 | val loss l1: 0.2760 | val custom F1: 0.1457 | val MAE/class: [0.51; 0.62; 0.52; 0.41; 0.64; 0.57; 0.79; 0.63; 0.81; 0.56; 0.56; 0.71; 0.47]\n",
      "New best model found at epoch 3 with val F1: 0.1457\n"
     ]
    },
    {
     "name": "stderr",
     "output_type": "stream",
     "text": [
      "  7%|▋         | 4/60 [11:30<2:39:59, 171.42s/it]"
     ]
    },
    {
     "name": "stdout",
     "output_type": "stream",
     "text": [
      "Epoch 04 | train loss L1: 0.2839 | val loss l1: 0.2873 | val custom F1: 0.0339 | val MAE/class: [0.50; 0.64; 0.59; 0.41; 0.67; 0.51; 0.78; 0.58; 0.84; 0.59; 0.61; 0.79; 0.58]\n"
     ]
    },
    {
     "name": "stderr",
     "output_type": "stream",
     "text": [
      "  7%|▋         | 4/60 [12:14<2:51:27, 183.71s/it]\n"
     ]
    },
    {
     "ename": "KeyboardInterrupt",
     "evalue": "",
     "output_type": "error",
     "traceback": [
      "\u001b[1;31m---------------------------------------------------------------------------\u001b[0m",
      "\u001b[1;31mKeyboardInterrupt\u001b[0m                         Traceback (most recent call last)",
      "Cell \u001b[1;32mIn[16], line 31\u001b[0m\n\u001b[0;32m     28\u001b[0m \u001b[38;5;66;03m# training loop\u001b[39;00m\n\u001b[0;32m     29\u001b[0m \u001b[38;5;28;01mfor\u001b[39;00m epoch \u001b[38;5;129;01min\u001b[39;00m tqdm(\u001b[38;5;28mrange\u001b[39m(\u001b[38;5;241m1\u001b[39m, NUM_EPOCHS \u001b[38;5;241m+\u001b[39m \u001b[38;5;241m1\u001b[39m)):\n\u001b[1;32m---> 31\u001b[0m     train_loss \u001b[38;5;241m=\u001b[39m \u001b[43mtrain_epoch\u001b[49m\u001b[43m(\u001b[49m\u001b[43mtrain_loader\u001b[49m\u001b[43m,\u001b[49m\u001b[43m \u001b[49m\u001b[43mmodel\u001b[49m\u001b[43m,\u001b[49m\u001b[43m \u001b[49m\u001b[43mloss\u001b[49m\u001b[43m,\u001b[49m\u001b[43m \u001b[49m\u001b[43moptimizer\u001b[49m\u001b[43m,\u001b[49m\u001b[43m \u001b[49m\u001b[43mdevice\u001b[49m\u001b[43m)\u001b[49m\n\u001b[0;32m     32\u001b[0m     val_loss, val_f1, val_mae \u001b[38;5;241m=\u001b[39m eval_epoch(val_loader, model, loss, NUM_CLASSES, device)\n\u001b[0;32m     34\u001b[0m     \u001b[38;5;66;03m# ---- logging ----\u001b[39;00m\n",
      "File \u001b[1;32mc:\\Users\\jerem\\Documents\\IAPR_project\\src\\training\\training.py:67\u001b[0m, in \u001b[0;36mtrain_epoch\u001b[1;34m(loader, model, loss_fn, optim, device)\u001b[0m\n\u001b[0;32m     64\u001b[0m     loss\u001b[38;5;241m.\u001b[39mbackward()\n\u001b[0;32m     65\u001b[0m     optim\u001b[38;5;241m.\u001b[39mstep()\n\u001b[1;32m---> 67\u001b[0m     running_loss \u001b[38;5;241m+\u001b[39m\u001b[38;5;241m=\u001b[39m \u001b[43mloss\u001b[49m\u001b[38;5;241;43m.\u001b[39;49m\u001b[43mitem\u001b[49m\u001b[43m(\u001b[49m\u001b[43m)\u001b[49m \u001b[38;5;241m*\u001b[39m imgs\u001b[38;5;241m.\u001b[39msize(\u001b[38;5;241m0\u001b[39m)\n\u001b[0;32m     69\u001b[0m \u001b[38;5;28;01mreturn\u001b[39;00m running_loss \u001b[38;5;241m/\u001b[39m \u001b[38;5;28mlen\u001b[39m(loader\u001b[38;5;241m.\u001b[39mdataset)\n",
      "\u001b[1;31mKeyboardInterrupt\u001b[0m: "
     ]
    }
   ],
   "source": [
    "import csv # for logging\n",
    "\n",
    "device = torch.device(\"cuda\" if torch.cuda.is_available() else \"cpu\")\n",
    "print(f\"Using device: {device}\")\n",
    "\n",
    "# Import the model and the training settings\n",
    "from src.model.ChocoNetwork import ChocoNetwork\n",
    "from src.training.training import *\n",
    "\n",
    "model = ChocoNetwork().to(device)\n",
    "loss = torch.nn.SmoothL1Loss() \n",
    "kaggle_loss = ChocolateCountF1Loss() # Custom loss to match the one on the leaderboard\n",
    "optimizer = get_optimizer(model) # AdamW with weight decay\n",
    "\n",
    "best_val_f1 = 0.0\n",
    "\n",
    "# This is done to implement early stopping -> avoid overfitting\n",
    "patience = 10\n",
    "no_improvement_epoch = 0\n",
    "\n",
    "# Let's train this model\n",
    "with open(f\"run_{NUM_EPOCHS}epochs_{BATCH_SIZE}batches.csv\", \"w\", newline=\"\") as csv_file:\n",
    "    \n",
    "    # csv\n",
    "    writer = csv.writer(csv_file)\n",
    "    writer.writerow([\"epoch\", \"train_loss\", \"val_loss\", \"val_f1\", \"val_mae\"])\n",
    "    \n",
    "    # training loop\n",
    "    for epoch in tqdm(range(1, NUM_EPOCHS + 1)):\n",
    "        \n",
    "        train_loss = train_epoch(train_loader, model, loss, optimizer, device)\n",
    "        val_loss, val_f1, val_mae = eval_epoch(val_loader, model, loss, NUM_CLASSES, device)\n",
    "\n",
    "        # ---- logging ----\n",
    "        mae_str = \"; \".join([f\"{m:.2f}\" for m in val_mae])\n",
    "        print(f\"Epoch {epoch:02d} | \"\n",
    "            f\"train loss L1: {train_loss:.4f} | \"\n",
    "            f\"val loss l1: {val_loss:.4f} | \"\n",
    "            f\"val custom F1: {val_f1:.4f} | \"\n",
    "            f\"val MAE/class: [{mae_str}]\")\n",
    "        \n",
    "        # log to csv\n",
    "        writer.writerow([epoch,train_loss, val_loss, val_f1, mae_str])\n",
    "        csv_file.flush()\n",
    "\n",
    "        # save best model\n",
    "        if val_f1 > best_val_f1:\n",
    "            best_val_f1 = val_f1\n",
    "            print(f\"New best model found at epoch {epoch} with val F1: {val_f1:.4f}\")\n",
    "            torch.save(model.state_dict(), best_model_path)\n",
    "            no_improvement_epoch = 0\n",
    "        else:\n",
    "            no_improvement_epoch += 1\n",
    "            if no_improvement_epoch >= patience:\n",
    "                print(f\"Early stopping at epoch {epoch}\")\n",
    "                break\n",
    "\n",
    "print(f\"The training finished at epoch {epoch} with a best val F1 of {best_val_f1:.4f}\")\n"
   ]
  }
 ],
 "metadata": {
  "kernelspec": {
   "display_name": "iapr_project",
   "language": "python",
   "name": "python3"
  },
  "language_info": {
   "codemirror_mode": {
    "name": "ipython",
    "version": 3
   },
   "file_extension": ".py",
   "mimetype": "text/x-python",
   "name": "python",
   "nbconvert_exporter": "python",
   "pygments_lexer": "ipython3",
   "version": "3.9.21"
  }
 },
 "nbformat": 4,
 "nbformat_minor": 5
}
