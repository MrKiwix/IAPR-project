{
 "cells": [
  {
   "cell_type": "code",
   "execution_count": 1,
   "id": "0e1f7adc",
   "metadata": {},
   "outputs": [],
   "source": [
    "%load_ext autoreload\n",
    "%autoreload 2"
   ]
  },
  {
   "cell_type": "code",
   "execution_count": 2,
   "id": "c2003f48",
   "metadata": {},
   "outputs": [],
   "source": [
    "import torch, sys\n",
    "from torchvision.transforms import v2\n",
    "from torch.utils.data import Dataset, DataLoader, random_split, Subset\n",
    "from pathlib import Path\n",
    "from tqdm import tqdm\n",
    "\n",
    "# Check if running in Google Colab\n",
    "IN_COLAB = 'google.colab' in sys.modules\n",
    "\n",
    "# Set dataset path accordingly\n",
    "if IN_COLAB:\n",
    "    ! git clone --branch refactored https://github.com/MrKiwix/IAPR-project.git\n",
    "    %cd IAPR-project\n",
    "    from google.colab import drive\n",
    "    drive.mount('/content/drive')\n",
    "    ROOT_DIR = Path('/content/drive/MyDrive/IAPR')\n",
    "else:\n",
    "    ROOT_DIR = Path('./')"
   ]
  },
  {
   "cell_type": "markdown",
   "id": "d3ba41fc",
   "metadata": {},
   "source": [
    "# Training Notebook\n",
    "\n",
    "Function calls to start a training.\n",
    "\n",
    "This assumes the following:\n",
    "- Training data is present at the desired location\n",
    "- The CSV label information is also created\n",
    "\n",
    "> Warning: this exports the best model weights and will therefore erase the previous one with the same name\n",
    "\n",
    "We start with the constant and transformation setup:"
   ]
  },
  {
   "cell_type": "code",
   "execution_count": 3,
   "id": "2bb38fb2",
   "metadata": {},
   "outputs": [],
   "source": [
    "# Constants\n",
    "NUM_CLASSES = 13\n",
    "IMG_SIZE = (120, 180) # (height, width)\n",
    "BATCH_SIZE = 32\n",
    "NUM_EPOCHS = 60\n",
    "\n",
    "# Path to dataset and csv label\n",
    "label_csv  = ROOT_DIR / Path(\"./data/train.csv\")\n",
    "images_dir = ROOT_DIR / Path(\"./data/train\")\n",
    "alpha_reference = ROOT_DIR / Path(\"./data/alpha_references/\")\n",
    "\n",
    "# Create the model directory if it doesn't exist\n",
    "best_model_path = ROOT_DIR / Path(\"./model/best_choco_model.pt\")\n",
    "model_dir = best_model_path.parent\n",
    "model_dir.mkdir(parents=True, exist_ok=True)\n",
    "\n",
    "# Training and eval transform\n",
    "train_tf = v2.Compose([\n",
    "    v2.ToImage(),\n",
    "    v2.Resize(IMG_SIZE, antialias=True),     \n",
    "    v2.RandomHorizontalFlip(p=0.5),           \n",
    "    v2.RandomVerticalFlip(p=0.5),           \n",
    "    v2.ToDtype(torch.float32, scale=True), \n",
    "    v2.Normalize(mean=[0.5]*3, std=[0.5]*3),\n",
    "])\n",
    "\n",
    "val_tf = v2.Compose([\n",
    "    v2.ToImage(),\n",
    "    v2.ToDtype(torch.float32, scale=True), \n",
    "    v2.Resize(IMG_SIZE, antialias=True),                \n",
    "    v2.Normalize(mean=[0.5]*3, std=[0.5]*3),\n",
    "])"
   ]
  },
  {
   "cell_type": "markdown",
   "id": "fdc04d20",
   "metadata": {},
   "source": [
    "Now, we can load our dataset to create a training and validation split"
   ]
  },
  {
   "cell_type": "code",
   "execution_count": null,
   "id": "c65225fa",
   "metadata": {},
   "outputs": [
    {
     "name": "stdout",
     "output_type": "stream",
     "text": [
      "Training dataset size: 246\n",
      "Validation dataset size: 21\n",
      "Synthetic dataset size: 164\n",
      "Merged training dataset size: 246\n"
     ]
    }
   ],
   "source": [
    "from src.data.TrainChocolateDataset import * \n",
    "from src.data.SyntheticChocolateDataset import SyntheticChocolateDataset\n",
    "\n",
    "# We first create a general dataset\n",
    "train_eval_dataset = ChocolateDataset(\n",
    "    data_dir=images_dir,\n",
    "    label_csv=label_csv,\n",
    "    transform=None, # Since the two split are not using the same transform, we set it to None\n",
    "    target_transform=LabelToTensor(),\n",
    ")\n",
    "# We now split the dataset into training and validation sets\n",
    "# Split indexes\n",
    "train_len = int(0.8 * len(train_eval_dataset))\n",
    "test_len  = len(train_eval_dataset) - train_len\n",
    "train_idxs, test_idxs = torch.utils.data.random_split(\n",
    "    range(len(train_eval_dataset)), [train_len, test_len], generator=torch.Generator().manual_seed(42))\n",
    "\n",
    "\n",
    "training_dataset = Subset(\n",
    "    ChocolateDataset(images_dir, label_csv, transform=train_tf, target_transform=LabelToTensor()),\n",
    "    train_idxs)\n",
    "val_dataset = Subset(\n",
    "    ChocolateDataset(images_dir, label_csv, transform=val_tf, target_transform=LabelToTensor()),\n",
    "    test_idxs)\n",
    "\n",
    "# Synthetic dataset\n",
    "synth_dataset = SyntheticChocolateDataset(\n",
    "    background_dir=images_dir,\n",
    "    alpha_reference_dir=alpha_reference,\n",
    "    original_label_csv=label_csv,\n",
    "    train_idx=train_idxs,\n",
    "    per_background=2, # How much time we use each background\n",
    "    transform=train_tf,\n",
    "    target_transform=LabelToTensor()\n",
    ")\n",
    "\n",
    "# We can now merge the two datasets\n",
    "merged_training_dataset = torch.utils.data.ConcatDataset([training_dataset, synth_dataset])\n",
    "\n",
    "# Create DataLoaders\n",
    "num_workers = 0\n",
    "train_loader = DataLoader(merged_training_dataset, BATCH_SIZE,\n",
    "                          shuffle=True,  num_workers=num_workers, pin_memory=True)\n",
    "val_loader  = DataLoader(val_dataset,  BATCH_SIZE,\n",
    "                          shuffle=False, num_workers=num_workers, pin_memory=True)\n",
    "\n",
    "# print the size of the datasets\n",
    "print(f\"Training dataset size: {len(training_dataset)}\")\n",
    "print(f\"Validation dataset size: {len(val_dataset)}\")\n",
    "print(f\"Synthetic dataset size: {len(synth_dataset)}\")\n",
    "print(f\"Merged training dataset size: {len(merged_training_dataset)}\")"
   ]
  },
  {
   "cell_type": "markdown",
   "id": "1a9c1263",
   "metadata": {},
   "source": [
    "Data is now ready with our loader, let's instantiate the model"
   ]
  },
  {
   "cell_type": "code",
   "execution_count": null,
   "id": "15c1a4b5",
   "metadata": {},
   "outputs": [
    {
     "name": "stdout",
     "output_type": "stream",
     "text": [
      "Using device: cuda\n"
     ]
    },
    {
     "name": "stderr",
     "output_type": "stream",
     "text": [
      "  0%|          | 0/60 [00:00<?, ?it/s]"
     ]
    }
   ],
   "source": [
    "import csv # for logging\n",
    "\n",
    "device = torch.device(\"cuda\" if torch.cuda.is_available() else \"cpu\")\n",
    "print(f\"Using device: {device}\")\n",
    "\n",
    "# Import the model and the training settings\n",
    "from src.model.ChocoNetwork import ChocoNetwork\n",
    "from src.training.training import *\n",
    "\n",
    "model = ChocoNetwork().to(device)\n",
    "loss = torch.nn.SmoothL1Loss() \n",
    "kaggle_loss = ChocolateCountF1Loss() # Custom loss to match the one on the leaderboard\n",
    "optimizer = get_optimizer(model) # AdamW with weight decay\n",
    "\n",
    "best_val_f1 = 0.0\n",
    "\n",
    "# This is done to implement early stopping -> avoid overfitting\n",
    "patience = 10\n",
    "no_improvement_epoch = 0\n",
    "\n",
    "# Let's train this model\n",
    "with open(f\"run_{NUM_EPOCHS}epochs_{BATCH_SIZE}batches.csv\", \"w\", newline=\"\") as csv_file:\n",
    "    \n",
    "    # csv\n",
    "    writer = csv.writer(csv_file)\n",
    "    writer.writerow([\"epoch\", \"train_loss\", \"val_loss\", \"val_f1\", \"val_mae\"])\n",
    "    \n",
    "    # training loop\n",
    "    for epoch in tqdm(range(1, NUM_EPOCHS + 1)):\n",
    "        \n",
    "        train_loss = train_epoch(train_loader, model, loss, optimizer, device)\n",
    "        val_loss, val_f1, val_mae = eval_epoch(val_loader, model, loss, NUM_CLASSES, device)\n",
    "\n",
    "        # ---- logging ----\n",
    "        mae_str = \"; \".join([f\"{m:.2f}\" for m in val_mae])\n",
    "        print(f\"Epoch {epoch:02d} | \"\n",
    "            f\"train loss L1: {train_loss:.4f} | \"\n",
    "            f\"val loss l1: {val_loss:.4f} | \"\n",
    "            f\"val custom F1: {val_f1:.4f} | \"\n",
    "            f\"val MAE/class: [{mae_str}]\")\n",
    "        \n",
    "        # log to csv\n",
    "        writer.writerow([epoch,train_loss, val_loss, val_f1, mae_str])\n",
    "        csv_file.flush()\n",
    "\n",
    "        # save best model\n",
    "        if val_f1 > best_val_f1:\n",
    "            best_val_f1 = val_f1\n",
    "            print(f\"New best model found at epoch {epoch} with val F1: {val_f1:.4f}\")\n",
    "            torch.save(model.state_dict(), best_model_path)\n",
    "            no_improvement_epoch = 0\n",
    "        else:\n",
    "            no_improvement_epoch += 1\n",
    "            if no_improvement_epoch >= patience:\n",
    "                print(f\"Early stopping at epoch {epoch}\")\n",
    "                break\n",
    "\n",
    "print(f\"The training finished at epoch {epoch} with a best val F1 of {best_val_f1:.4f}\")\n"
   ]
  }
 ],
 "metadata": {
  "kernelspec": {
   "display_name": "iapr_project",
   "language": "python",
   "name": "python3"
  },
  "language_info": {
   "codemirror_mode": {
    "name": "ipython",
    "version": 3
   },
   "file_extension": ".py",
   "mimetype": "text/x-python",
   "name": "python",
   "nbconvert_exporter": "python",
   "pygments_lexer": "ipython3",
   "version": "3.9.21"
  }
 },
 "nbformat": 4,
 "nbformat_minor": 5
}
