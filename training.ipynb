{
 "cells": [
  {
   "cell_type": "code",
   "execution_count": 1,
   "id": "0e1f7adc",
   "metadata": {},
   "outputs": [],
   "source": [
    "%load_ext autoreload\n",
    "%autoreload 2"
   ]
  },
  {
   "cell_type": "code",
   "execution_count": 2,
   "id": "c2003f48",
   "metadata": {},
   "outputs": [],
   "source": [
    "import torch, sys\n",
    "from torchvision.transforms import v2\n",
    "from torch.utils.data import Dataset, DataLoader, random_split, Subset\n",
    "from pathlib import Path\n",
    "from tqdm import tqdm\n",
    "\n",
    "# Check if running in Google Colab\n",
    "IN_COLAB = 'google.colab' in sys.modules\n",
    "\n",
    "# Set dataset path accordingly\n",
    "if IN_COLAB:\n",
    "    ! git clone https://github.com/MrKiwix/IAPR-project.git\n",
    "    %cd IAPR-project\n",
    "    from google.colab import drive\n",
    "    drive.mount('/content/drive')\n",
    "    ROOT_DIR = Path('/content/drive/MyDrive/IAPR')\n",
    "else:\n",
    "    ROOT_DIR = Path('./')"
   ]
  },
  {
   "cell_type": "markdown",
   "id": "d3ba41fc",
   "metadata": {},
   "source": [
    "# Training Notebook\n",
    "\n",
    "Function calls to start a training.\n",
    "\n",
    "This assumes the following:\n",
    "- Training data is present at the desired location\n",
    "- The CSV label information is also created\n",
    "\n",
    "> Warning: this exports the best model weights and will therefore erase the previous one with the same name\n",
    "\n",
    "We start with the constant and transformation setup:"
   ]
  },
  {
   "cell_type": "code",
   "execution_count": null,
   "id": "2bb38fb2",
   "metadata": {},
   "outputs": [],
   "source": [
    "# Constants\n",
    "\n",
    "SYNTHETIC_DATA = True\n",
    "NUM_CLASSES = 13\n",
    "IMG_SIZE = (200, 300) # (height, width)\n",
    "BATCH_SIZE = 32\n",
    "NUM_EPOCHS = 60\n",
    "\n",
    "# Path to dataset and csv label\n",
    "\n",
    "if SYNTHETIC_DATA:\n",
    "    label_csv  = ROOT_DIR / Path(\"./data/synthetic_train.csv\")\n",
    "    images_dir = ROOT_DIR / Path(\"./data/synthetic_train\")\n",
    "else:\n",
    "    label_csv  = ROOT_DIR / Path(\"./data/train.csv\")\n",
    "    images_dir = ROOT_DIR / Path(\"./data/train\")\n",
    "best_model_path = ROOT_DIR / Path(\"./model/best_choco_model.pt\")\n",
    "# Create the model directory if it doesn't exist\n",
    "model_dir = best_model_path.parent\n",
    "model_dir.mkdir(parents=True, exist_ok=True)\n",
    "\n",
    "# Training and eval transform\n",
    "train_tf = v2.Compose([\n",
    "    v2.ToImage(),\n",
    "    v2.ToDtype(torch.float32, scale=True), \n",
    "    v2.Resize(IMG_SIZE, antialias=True),                \n",
    "    v2.ColorJitter(0.2, 0.2, 0.2, 0.1), # Not needed in the eval transform\n",
    "    v2.Normalize(mean=[0.5]*3, std=[0.5]*3),\n",
    "])\n",
    "\n",
    "val_tf = v2.Compose([\n",
    "    v2.ToImage(),\n",
    "    v2.ToDtype(torch.float32, scale=True), \n",
    "    v2.Resize(IMG_SIZE, antialias=True),                \n",
    "    v2.Normalize(mean=[0.5]*3, std=[0.5]*3),\n",
    "])"
   ]
  },
  {
   "cell_type": "markdown",
   "id": "fdc04d20",
   "metadata": {},
   "source": [
    "Now, we can load our dataset to create a training and validation split"
   ]
  },
  {
   "cell_type": "code",
   "execution_count": null,
   "id": "c65225fa",
   "metadata": {},
   "outputs": [],
   "source": [
    "from src.data.TrainChocolateDataset import * \n",
    "\n",
    "# We first create a general dataset\n",
    "train_eval_dataset = ChocolateDataset(\n",
    "    data_dir=images_dir,\n",
    "    label_csv=label_csv,\n",
    "    transform=None, # Since the two split are not using the same transform, we set it to None\n",
    "    target_transform=LabelToTensor(),\n",
    ")\n",
    "# We now split the dataset into training and validation sets\n",
    "# Split indexes\n",
    "train_len = int(0.8 * len(train_eval_dataset))\n",
    "test_len  = len(train_eval_dataset) - train_len\n",
    "train_idxs, test_idxs = torch.utils.data.random_split(\n",
    "    range(len(train_eval_dataset)), [train_len, test_len], generator=torch.Generator().manual_seed(42))\n",
    "\n",
    "\n",
    "training_dataset = Subset(\n",
    "    ChocolateDataset(images_dir, label_csv, transform=train_tf, target_transform=LabelToTensor()),\n",
    "    train_idxs)\n",
    "val_dataset = Subset(\n",
    "    ChocolateDataset(images_dir, label_csv, transform=val_tf, target_transform=LabelToTensor()),\n",
    "    test_idxs)\n",
    "\n",
    "# Create DataLoaders\n",
    "num_workers = 0\n",
    "train_loader = DataLoader(training_dataset, BATCH_SIZE,\n",
    "                          shuffle=True,  num_workers=num_workers, pin_memory=True)\n",
    "val_loader  = DataLoader(val_dataset,  BATCH_SIZE,\n",
    "                          shuffle=False, num_workers=num_workers, pin_memory=True)\n"
   ]
  },
  {
   "cell_type": "markdown",
   "id": "1a9c1263",
   "metadata": {},
   "source": [
    "Data is now ready with our loader, let's instantiate the model"
   ]
  },
  {
   "cell_type": "code",
   "execution_count": 11,
   "id": "15c1a4b5",
   "metadata": {},
   "outputs": [
    {
     "name": "stdout",
     "output_type": "stream",
     "text": [
      "Using device: cuda\n"
     ]
    },
    {
     "name": "stderr",
     "output_type": "stream",
     "text": [
      "  0%|          | 0/60 [00:24<?, ?it/s]\n"
     ]
    },
    {
     "ename": "KeyboardInterrupt",
     "evalue": "",
     "output_type": "error",
     "traceback": [
      "\u001b[1;31m---------------------------------------------------------------------------\u001b[0m",
      "\u001b[1;31mKeyboardInterrupt\u001b[0m                         Traceback (most recent call last)",
      "Cell \u001b[1;32mIn[11], line 17\u001b[0m\n\u001b[0;32m     14\u001b[0m \u001b[38;5;66;03m# Let's train this model\u001b[39;00m\n\u001b[0;32m     15\u001b[0m \u001b[38;5;28;01mfor\u001b[39;00m epoch \u001b[38;5;129;01min\u001b[39;00m tqdm(\u001b[38;5;28mrange\u001b[39m(\u001b[38;5;241m1\u001b[39m, NUM_EPOCHS \u001b[38;5;241m+\u001b[39m \u001b[38;5;241m1\u001b[39m)):\n\u001b[1;32m---> 17\u001b[0m     train_loss \u001b[38;5;241m=\u001b[39m \u001b[43mtrain_epoch\u001b[49m\u001b[43m(\u001b[49m\u001b[43mtrain_loader\u001b[49m\u001b[43m,\u001b[49m\u001b[43m \u001b[49m\u001b[43mmodel\u001b[49m\u001b[43m,\u001b[49m\u001b[43m \u001b[49m\u001b[43mloss\u001b[49m\u001b[43m,\u001b[49m\u001b[43m \u001b[49m\u001b[43moptimizer\u001b[49m\u001b[43m,\u001b[49m\u001b[43m \u001b[49m\u001b[43mdevice\u001b[49m\u001b[43m)\u001b[49m\n\u001b[0;32m     18\u001b[0m     val_loss, val_mae \u001b[38;5;241m=\u001b[39m eval_epoch(val_loader, model, loss, NUM_CLASSES, device)\n\u001b[0;32m     20\u001b[0m     \u001b[38;5;66;03m# ---- logging ----\u001b[39;00m\n",
      "File \u001b[1;32mc:\\Users\\jerem\\Documents\\IAPR_project\\src\\training\\training.py:74\u001b[0m, in \u001b[0;36mtrain_epoch\u001b[1;34m(loader, model, loss_fn, optim, device)\u001b[0m\n\u001b[0;32m     71\u001b[0m loss  \u001b[38;5;241m=\u001b[39m loss_fn(preds, targets)\n\u001b[0;32m     73\u001b[0m optim\u001b[38;5;241m.\u001b[39mzero_grad(set_to_none\u001b[38;5;241m=\u001b[39m\u001b[38;5;28;01mTrue\u001b[39;00m)\n\u001b[1;32m---> 74\u001b[0m \u001b[43mloss\u001b[49m\u001b[38;5;241;43m.\u001b[39;49m\u001b[43mbackward\u001b[49m\u001b[43m(\u001b[49m\u001b[43m)\u001b[49m\n\u001b[0;32m     75\u001b[0m optim\u001b[38;5;241m.\u001b[39mstep()\n\u001b[0;32m     77\u001b[0m running_loss \u001b[38;5;241m+\u001b[39m\u001b[38;5;241m=\u001b[39m loss\u001b[38;5;241m.\u001b[39mitem() \u001b[38;5;241m*\u001b[39m imgs\u001b[38;5;241m.\u001b[39msize(\u001b[38;5;241m0\u001b[39m)\n",
      "File \u001b[1;32mc:\\Users\\jerem\\miniconda\\envs\\iapr_project\\lib\\site-packages\\torch\\_tensor.py:648\u001b[0m, in \u001b[0;36mTensor.backward\u001b[1;34m(self, gradient, retain_graph, create_graph, inputs)\u001b[0m\n\u001b[0;32m    638\u001b[0m \u001b[38;5;28;01mif\u001b[39;00m has_torch_function_unary(\u001b[38;5;28mself\u001b[39m):\n\u001b[0;32m    639\u001b[0m     \u001b[38;5;28;01mreturn\u001b[39;00m handle_torch_function(\n\u001b[0;32m    640\u001b[0m         Tensor\u001b[38;5;241m.\u001b[39mbackward,\n\u001b[0;32m    641\u001b[0m         (\u001b[38;5;28mself\u001b[39m,),\n\u001b[1;32m   (...)\u001b[0m\n\u001b[0;32m    646\u001b[0m         inputs\u001b[38;5;241m=\u001b[39minputs,\n\u001b[0;32m    647\u001b[0m     )\n\u001b[1;32m--> 648\u001b[0m \u001b[43mtorch\u001b[49m\u001b[38;5;241;43m.\u001b[39;49m\u001b[43mautograd\u001b[49m\u001b[38;5;241;43m.\u001b[39;49m\u001b[43mbackward\u001b[49m\u001b[43m(\u001b[49m\n\u001b[0;32m    649\u001b[0m \u001b[43m    \u001b[49m\u001b[38;5;28;43mself\u001b[39;49m\u001b[43m,\u001b[49m\u001b[43m \u001b[49m\u001b[43mgradient\u001b[49m\u001b[43m,\u001b[49m\u001b[43m \u001b[49m\u001b[43mretain_graph\u001b[49m\u001b[43m,\u001b[49m\u001b[43m \u001b[49m\u001b[43mcreate_graph\u001b[49m\u001b[43m,\u001b[49m\u001b[43m \u001b[49m\u001b[43minputs\u001b[49m\u001b[38;5;241;43m=\u001b[39;49m\u001b[43minputs\u001b[49m\n\u001b[0;32m    650\u001b[0m \u001b[43m\u001b[49m\u001b[43m)\u001b[49m\n",
      "File \u001b[1;32mc:\\Users\\jerem\\miniconda\\envs\\iapr_project\\lib\\site-packages\\torch\\autograd\\__init__.py:353\u001b[0m, in \u001b[0;36mbackward\u001b[1;34m(tensors, grad_tensors, retain_graph, create_graph, grad_variables, inputs)\u001b[0m\n\u001b[0;32m    348\u001b[0m     retain_graph \u001b[38;5;241m=\u001b[39m create_graph\n\u001b[0;32m    350\u001b[0m \u001b[38;5;66;03m# The reason we repeat the same comment below is that\u001b[39;00m\n\u001b[0;32m    351\u001b[0m \u001b[38;5;66;03m# some Python versions print out the first line of a multi-line function\u001b[39;00m\n\u001b[0;32m    352\u001b[0m \u001b[38;5;66;03m# calls in the traceback and some print out the last line\u001b[39;00m\n\u001b[1;32m--> 353\u001b[0m \u001b[43m_engine_run_backward\u001b[49m\u001b[43m(\u001b[49m\n\u001b[0;32m    354\u001b[0m \u001b[43m    \u001b[49m\u001b[43mtensors\u001b[49m\u001b[43m,\u001b[49m\n\u001b[0;32m    355\u001b[0m \u001b[43m    \u001b[49m\u001b[43mgrad_tensors_\u001b[49m\u001b[43m,\u001b[49m\n\u001b[0;32m    356\u001b[0m \u001b[43m    \u001b[49m\u001b[43mretain_graph\u001b[49m\u001b[43m,\u001b[49m\n\u001b[0;32m    357\u001b[0m \u001b[43m    \u001b[49m\u001b[43mcreate_graph\u001b[49m\u001b[43m,\u001b[49m\n\u001b[0;32m    358\u001b[0m \u001b[43m    \u001b[49m\u001b[43minputs\u001b[49m\u001b[43m,\u001b[49m\n\u001b[0;32m    359\u001b[0m \u001b[43m    \u001b[49m\u001b[43mallow_unreachable\u001b[49m\u001b[38;5;241;43m=\u001b[39;49m\u001b[38;5;28;43;01mTrue\u001b[39;49;00m\u001b[43m,\u001b[49m\n\u001b[0;32m    360\u001b[0m \u001b[43m    \u001b[49m\u001b[43maccumulate_grad\u001b[49m\u001b[38;5;241;43m=\u001b[39;49m\u001b[38;5;28;43;01mTrue\u001b[39;49;00m\u001b[43m,\u001b[49m\n\u001b[0;32m    361\u001b[0m \u001b[43m\u001b[49m\u001b[43m)\u001b[49m\n",
      "File \u001b[1;32mc:\\Users\\jerem\\miniconda\\envs\\iapr_project\\lib\\site-packages\\torch\\autograd\\graph.py:824\u001b[0m, in \u001b[0;36m_engine_run_backward\u001b[1;34m(t_outputs, *args, **kwargs)\u001b[0m\n\u001b[0;32m    822\u001b[0m     unregister_hooks \u001b[38;5;241m=\u001b[39m _register_logging_hooks_on_whole_graph(t_outputs)\n\u001b[0;32m    823\u001b[0m \u001b[38;5;28;01mtry\u001b[39;00m:\n\u001b[1;32m--> 824\u001b[0m     \u001b[38;5;28;01mreturn\u001b[39;00m Variable\u001b[38;5;241m.\u001b[39m_execution_engine\u001b[38;5;241m.\u001b[39mrun_backward(  \u001b[38;5;66;03m# Calls into the C++ engine to run the backward pass\u001b[39;00m\n\u001b[0;32m    825\u001b[0m         t_outputs, \u001b[38;5;241m*\u001b[39margs, \u001b[38;5;241m*\u001b[39m\u001b[38;5;241m*\u001b[39mkwargs\n\u001b[0;32m    826\u001b[0m     )  \u001b[38;5;66;03m# Calls into the C++ engine to run the backward pass\u001b[39;00m\n\u001b[0;32m    827\u001b[0m \u001b[38;5;28;01mfinally\u001b[39;00m:\n\u001b[0;32m    828\u001b[0m     \u001b[38;5;28;01mif\u001b[39;00m attach_logging_hooks:\n",
      "\u001b[1;31mKeyboardInterrupt\u001b[0m: "
     ]
    }
   ],
   "source": [
    "device = torch.device(\"cuda\" if torch.cuda.is_available() else \"cpu\")\n",
    "print(f\"Using device: {device}\")\n",
    "\n",
    "# Import the model and the training settings\n",
    "from src.model.ChocoNetwork import ChocoNetwork\n",
    "from src.training.training import *\n",
    "\n",
    "model = ChocoNetwork().to(device)\n",
    "loss = get_loss() # Smooth L1 (Huber) with β=1.0\n",
    "optimizer = get_optimizer(model) # AdamW with weight decay\n",
    "\n",
    "best_val_loss = float('inf')\n",
    "\n",
    "# Let's train this model\n",
    "for epoch in tqdm(range(1, NUM_EPOCHS + 1)):\n",
    "    \n",
    "    train_loss = train_epoch(train_loader, model, loss, optimizer, device)\n",
    "    val_loss, val_mae = eval_epoch(val_loader, model, loss, NUM_CLASSES, device)\n",
    "\n",
    "    # ---- logging ----\n",
    "    mae_str = \", \".join([f\"{m:.2f}\" for m in val_mae])\n",
    "    print(f\"Epoch {epoch:02d} | \"\n",
    "          f\"train loss: {train_loss:.4f} | \"\n",
    "          f\"val loss: {val_loss:.4f} | \"\n",
    "          f\"val MAE/class: [{mae_str}]\")\n",
    "\n",
    "    # save best model\n",
    "    if val_loss < best_val_loss:\n",
    "        best_val_loss = val_loss\n",
    "        torch.save(model.state_dict(), best_model_path)\n",
    "\n"
   ]
  },
  {
   "cell_type": "code",
   "execution_count": null,
   "id": "fa0bf6fc",
   "metadata": {},
   "outputs": [],
   "source": []
  }
 ],
 "metadata": {
  "kernelspec": {
   "display_name": "iapr_project",
   "language": "python",
   "name": "python3"
  },
  "language_info": {
   "codemirror_mode": {
    "name": "ipython",
    "version": 3
   },
   "file_extension": ".py",
   "mimetype": "text/x-python",
   "name": "python",
   "nbconvert_exporter": "python",
   "pygments_lexer": "ipython3",
   "version": "3.9.21"
  }
 },
 "nbformat": 4,
 "nbformat_minor": 5
}
