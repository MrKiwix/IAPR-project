{
 "cells": [
  {
   "cell_type": "code",
   "execution_count": 1,
   "id": "99026188",
   "metadata": {},
   "outputs": [],
   "source": [
    "%load_ext autoreload\n",
    "%autoreload 2"
   ]
  },
  {
   "cell_type": "markdown",
   "id": "376edfc2",
   "metadata": {},
   "source": [
    "# Synthetic data generation\n",
    "\n",
    "In this notebook, we call methods from *src/data/synthetic_data_generation.py* to create new image for our model to train on.\n",
    "\n",
    "We first define the constants of our data directories"
   ]
  },
  {
   "cell_type": "code",
   "execution_count": 2,
   "id": "f798d40d",
   "metadata": {},
   "outputs": [],
   "source": [
    "from src.data.synthetic_data_generation import *\n",
    "from pathlib import Path\n",
    "\n",
    "# Images directories\n",
    "SYNTH_DIR = Path('data/synthetic_train')\n",
    "REFERENCE_DIR = Path('data/references')\n",
    "DEFAULT_TRAIN_DIR = Path('data/train')\n",
    "BACKGROUND_DIR = Path('data/backgrounds')\n",
    "TRANSPARENCY_DIR = Path('data/alpha_references')\n",
    "\n",
    "# CSV files\n",
    "ORIGINAL_CSV = Path('data/train.csv')\n",
    "SYNTH_CSV = Path('data/synthetic_train.csv')\n",
    "\n",
    "# Image constants\n",
    "IMG_SIZE = (300, 200)\n",
    "NUM_SYNTH_IMAGES = 800 # this will be 4x due to the horizontal and vertical flips\n",
    "\n",
    "# Check that all the directories exist\n",
    "for directory in [SYNTH_DIR, REFERENCE_DIR, DEFAULT_TRAIN_DIR, BACKGROUND_DIR]:\n",
    "    if not directory.exists():\n",
    "        raise FileNotFoundError(f\"Directory {directory} does not exist.\")\n",
    "# Check that the original CSV file exists\n",
    "if not ORIGINAL_CSV.exists():\n",
    "    raise FileNotFoundError(f\"CSV file {ORIGINAL_CSV} does not exist. It is needed to generate the synthetic data.\")"
   ]
  },
  {
   "cell_type": "markdown",
   "id": "b3024c30",
   "metadata": {},
   "source": [
    "## Resize our images\n",
    "\n",
    "We start by taking all the reference and default train images and transform them to a lighter format allowing easiser computations.\n",
    "\n",
    "First, we remove everything that was in the synthetic folder"
   ]
  },
  {
   "cell_type": "code",
   "execution_count": 8,
   "id": "9ccac8a5",
   "metadata": {},
   "outputs": [
    {
     "name": "stdout",
     "output_type": "stream",
     "text": [
      "All images in data\\synthetic_train have been deleted.\n"
     ]
    }
   ],
   "source": [
    "clear_output_dir(SYNTH_DIR)"
   ]
  },
  {
   "cell_type": "code",
   "execution_count": 9,
   "id": "f5f53a68",
   "metadata": {},
   "outputs": [
    {
     "name": "stdout",
     "output_type": "stream",
     "text": [
      "Resizing images in data\\references...\n"
     ]
    },
    {
     "name": "stderr",
     "output_type": "stream",
     "text": [
      "100%|██████████| 13/13 [00:03<00:00,  3.78it/s]\n"
     ]
    },
    {
     "name": "stdout",
     "output_type": "stream",
     "text": [
      "Resizing images in data\\train...\n"
     ]
    },
    {
     "name": "stderr",
     "output_type": "stream",
     "text": [
      "100%|██████████| 90/90 [00:25<00:00,  3.54it/s]"
     ]
    },
    {
     "name": "stdout",
     "output_type": "stream",
     "text": [
      "DONE! Resized images saved in data\\synthetic_train.\n"
     ]
    },
    {
     "name": "stderr",
     "output_type": "stream",
     "text": [
      "\n"
     ]
    }
   ],
   "source": [
    "to_be_resized = [REFERENCE_DIR, DEFAULT_TRAIN_DIR]\n",
    "resize_training_images(IMG_SIZE, to_be_resized, SYNTH_DIR)"
   ]
  },
  {
   "cell_type": "markdown",
   "id": "9a1724ec",
   "metadata": {},
   "source": [
    "### Creating synthetic images\n",
    "Now, we will add hundreds of new images in the same folder that are generated using the reference images (with a transparent background). This will create our new csv with the additional annotations. Noise and rotations are randomly applied to individual chocolates and the backgrounds are equally distributed and are fetched from the 'data/backgrounds' directory"
   ]
  },
  {
   "cell_type": "code",
   "execution_count": 10,
   "id": "9344d589",
   "metadata": {},
   "outputs": [
    {
     "name": "stdout",
     "output_type": "stream",
     "text": [
      "Generating images for background  1  of  1\n"
     ]
    },
    {
     "name": "stderr",
     "output_type": "stream",
     "text": [
      "100%|██████████| 800/800 [03:41<00:00,  3.61it/s]\n"
     ]
    }
   ],
   "source": [
    "generate_synthetic_dataset(NUM_SYNTH_IMAGES, BACKGROUND_DIR, TRANSPARENCY_DIR, SYNTH_DIR, ORIGINAL_CSV, SYNTH_CSV, IMG_SIZE)"
   ]
  },
  {
   "cell_type": "markdown",
   "id": "ea865609",
   "metadata": {},
   "source": [
    "### Data flipping\n",
    "We can now take all our synthetic and default image and apply 3 kinds of flips: vertical, horizontal and both combined"
   ]
  },
  {
   "cell_type": "code",
   "execution_count": 11,
   "id": "7bf19432",
   "metadata": {},
   "outputs": [
    {
     "name": "stdout",
     "output_type": "stream",
     "text": [
      "Merged CSV files saved to data\\synthetic_train.csv.\n"
     ]
    }
   ],
   "source": [
    "# First, we group the default csv with the synthetic csv and replace the synthetic csv\n",
    "merge_csv_files(SYNTH_CSV, ORIGINAL_CSV, SYNTH_CSV) # If you run this cell multiple times, it will keep adding the synthetic data to the original csv. You can delete the original csv if you want to start over.\n",
    "\n",
    "flip_images(SYNTH_CSV, SYNTH_DIR, SYNTH_CSV)"
   ]
  }
 ],
 "metadata": {
  "kernelspec": {
   "display_name": "iapr_project",
   "language": "python",
   "name": "python3"
  },
  "language_info": {
   "codemirror_mode": {
    "name": "ipython",
    "version": 3
   },
   "file_extension": ".py",
   "mimetype": "text/x-python",
   "name": "python",
   "nbconvert_exporter": "python",
   "pygments_lexer": "ipython3",
   "version": "3.9.21"
  }
 },
 "nbformat": 4,
 "nbformat_minor": 5
}
